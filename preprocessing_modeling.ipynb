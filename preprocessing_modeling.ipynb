{
 "cells": [
  {
   "cell_type": "markdown",
   "metadata": {},
   "source": [
    "# Import"
   ]
  },
  {
   "cell_type": "code",
   "execution_count": 1,
   "metadata": {
    "ExecuteTime": {
     "end_time": "2019-11-11T08:58:34.594372Z",
     "start_time": "2019-11-11T08:58:29.515108Z"
    }
   },
   "outputs": [
    {
     "name": "stderr",
     "output_type": "stream",
     "text": [
      "Using TensorFlow backend.\n"
     ]
    }
   ],
   "source": [
    "#預處理\n",
    "import numpy as np\n",
    "import pandas as pd\n",
    "from sklearn import preprocessing \n",
    "from sklearn.preprocessing import OneHotEncoder, LabelEncoder\n",
    "from sklearn.preprocessing import StandardScaler\n",
    "#可視化\n",
    "import matplotlib.pyplot as plt\n",
    "import seaborn as sns\n",
    "%matplotlib inline\n",
    "pd.options.mode.chained_assignment = None\n",
    "\n",
    "#ML\n",
    "from sklearn.tree import DecisionTreeClassifier\n",
    "import lightgbm as lgbm\n",
    "from sklearn.svm import SVC\n",
    "import xgboost as xgb\n",
    "from xgboost import XGBClassifier\n",
    "from sklearn.neighbors import KNeighborsClassifier\n",
    "from sklearn.linear_model import LogisticRegression\n",
    "from sklearn.ensemble import (GradientBoostingClassifier, GradientBoostingRegressor, \n",
    "                              RandomForestClassifier, RandomForestRegressor)\n",
    "import catboost\n",
    "from catboost import CatBoostClassifier\n",
    "from catboost import datasets\n",
    "from imblearn.over_sampling import SMOTE\n",
    "from sklearn import model_selection\n",
    "from sklearn.model_selection import train_test_split\n",
    "from sklearn.model_selection import TimeSeriesSplit\n",
    "from sklearn.model_selection import KFold\n",
    "from sklearn.model_selection import GridSearchCV \n",
    "from sklearn.model_selection import cross_val_score\n",
    "from sklearn.metrics import f1_score, confusion_matrix, roc_auc_score\n",
    "import warnings\n",
    "warnings.filterwarnings('ignore')"
   ]
  },
  {
   "cell_type": "markdown",
   "metadata": {},
   "source": [
    "# load data"
   ]
  },
  {
   "cell_type": "code",
   "execution_count": 2,
   "metadata": {
    "ExecuteTime": {
     "end_time": "2019-11-11T08:58:37.498357Z",
     "start_time": "2019-11-11T08:58:34.595327Z"
    }
   },
   "outputs": [],
   "source": [
    "submit = pd.read_csv('submission_test.csv')\n",
    "train = pd.read_csv('train.csv')\n",
    "test = pd.read_csv('test.csv')"
   ]
  },
  {
   "cell_type": "markdown",
   "metadata": {},
   "source": [
    "# Combining data"
   ]
  },
  {
   "cell_type": "code",
   "execution_count": 3,
   "metadata": {
    "ExecuteTime": {
     "end_time": "2019-11-11T08:58:37.852000Z",
     "start_time": "2019-11-11T08:58:37.500351Z"
    }
   },
   "outputs": [],
   "source": [
    "data = train.append(test)\n",
    "data.reset_index(inplace=True, drop=True)"
   ]
  },
  {
   "cell_type": "markdown",
   "metadata": {},
   "source": [
    "# Preprocessing- Label encoding for Randomforrest and lightgbm model"
   ]
  },
  {
   "cell_type": "code",
   "execution_count": 4,
   "metadata": {
    "ExecuteTime": {
     "end_time": "2019-11-11T08:58:38.785398Z",
     "start_time": "2019-11-11T08:58:37.853504Z"
    }
   },
   "outputs": [],
   "source": [
    "#for both RF and Lgbm\n",
    "data['ecfg'] = data['ecfg'].astype('category').cat.codes\n",
    "data['flbmk'] = data['flbmk'].astype('category').cat.codes\n",
    "data['flg_3dsmk'] = data['flg_3dsmk'].astype('category').cat.codes\n",
    "data['insfg'] = data['insfg'].astype('category').cat.codes\n",
    "data['ovrlt'] = data['ovrlt'].astype('category').cat.codes\n",
    "#only for lgbm\n",
    "data['acqic'] = data['acqic'].astype('category').cat.codes\n",
    "data['bacno'] = data['bacno'].astype('category').cat.codes\n",
    "data['cano'] = data['cano'].astype('category').cat.codes\n",
    "data['csmcu'] = data['csmcu'].astype('category').cat.codes\n",
    "data['hcefg'] = data['hcefg'].astype('category').cat.codes\n",
    "data['mcc'] = data['mcc'].astype('category').cat.codes\n",
    "data['mchno'] = data['mchno'].astype('category').cat.codes\n",
    "data['scity'] = data['scity'].astype('category').cat.codes\n",
    "data['stocn'] = data['stocn'].astype('category').cat.codes"
   ]
  },
  {
   "cell_type": "code",
   "execution_count": 5,
   "metadata": {
    "ExecuteTime": {
     "end_time": "2019-11-11T08:58:38.790385Z",
     "start_time": "2019-11-11T08:58:38.786396Z"
    }
   },
   "outputs": [],
   "source": [
    "#Handling Missing Values\n",
    "# data['flg_3dsmk'] = data[['ecfg','flg_3dsmk']].apply(lambda x: x['ecfg'] if x['ecfg']=='N' else x['flg_3dsmk'], axis=1)\n",
    "# # data['flg_3dsmk'] = data[['stocn','flg_3dsmk']].apply(lambda x: 0 if x['stocn']==46 else x['flg_3dsmk'], axis=1)\n",
    "# # data['flg_3dsmk'] = data[['stocn','flg_3dsmk']].apply(lambda x: 0 if x['stocn']==49 else x['flg_3dsmk'], axis=1)\n",
    "# # data['flg_3dsmk'] = data[['stocn','flg_3dsmk']].apply(lambda x: 0 if x['stocn']==47 else x['flg_3dsmk'], axis=1)\n",
    "# # data['flg_3dsmk'] = data[['mcc','flg_3dsmk']].apply(lambda x: 0 if x['mcc']==5 else x['flg_3dsmk'], axis=1)\n",
    "# # data['flg_3dsmk'] = data[['mcc','flg_3dsmk']].apply(lambda x: 0 if x['mcc']==31 else x['flg_3dsmk'], axis=1)\n",
    "# # data['flg_3dsmk'] = data[['mcc','flg_3dsmk']].apply(lambda x: 0 if x['mcc']==53 else x['flg_3dsmk'], axis=1)\n",
    "# # data['flg_3dsmk'] = data[['mcc','flg_3dsmk']].apply(lambda x: 0 if x['mcc']==205 else x['flg_3dsmk'], axis=1)\n",
    "# # data['flg_3dsmk'] = data[['mcc','flg_3dsmk']].apply(lambda x: 0 if x['mcc']==221 else x['flg_3dsmk'], axis=1)\n",
    "# # data['flg_3dsmk'] = data[['mcc','flg_3dsmk']].apply(lambda x: 0 if x['mcc']==226 else x['flg_3dsmk'], axis=1)\n",
    "# # data['flg_3dsmk'] = data[['mcc','flg_3dsmk']].apply(lambda x: 0 if x['mcc']==356 else x['flg_3dsmk'], axis=1)\n",
    "# # data['flg_3dsmk'] = data[['mcc','flg_3dsmk']].apply(lambda x: 0 if x['mcc']==361 else x['flg_3dsmk'], axis=1)\n",
    "# # data['flg_3dsmk'] = data[['mcc','flg_3dsmk']].apply(lambda x: 0 if x['mcc']==372 else x['flg_3dsmk'], axis=1)\n",
    "# # data['flg_3dsmk'] = data[['mcc','flg_3dsmk']].apply(lambda x: 0 if x['mcc']==407 else x['flg_3dsmk'], axis=1)\n",
    "# # data['flg_3dsmk'] = data[['mcc','flg_3dsmk']].apply(lambda x: 0 if x['mcc']==421 else x['flg_3dsmk'], axis=1)\n",
    "\n",
    "# data['flbmk'] = data[['ecfg','flbmk']].apply(lambda x:  'N'if x['ecfg']=='Y' else x['flbmk'], axis=1)\n",
    "# data['flbmk'] = data[['contp','flbmk']].apply(lambda x: 'N' if x['contp']==2 else x['flbmk'], axis=1)\n",
    "# data['flbmk'] = data[['contp','flbmk']].apply(lambda x: 'N' if x['contp']==4 else x['flbmk'], axis=1)\n",
    "# data['flbmk'] = data[['contp','flbmk']].apply(lambda x: 'N' if x['contp']==6 else x['flbmk'], axis=1)\n",
    "# data['flbmk'] = data[['etymd','flbmk']].apply(lambda x: 'N' if x['etymd']==0 else x['flbmk'], axis=1)\n",
    "# data['flbmk'] = data[['etymd','flbmk']].apply(lambda x: 'N' if x['etymd']==1 else x['flbmk'], axis=1)\n",
    "# data['flbmk'] = data[['etymd','flbmk']].apply(lambda x: 'N' if x['etymd']==2 else x['flbmk'], axis=1)\n",
    "# data['flbmk'] = data[['etymd','flbmk']].apply(lambda x: 'N' if x['etymd']==4 else x['flbmk'], axis=1)\n",
    "# data['flbmk'] = data[['etymd','flbmk']].apply(lambda x: 'N' if x['etymd']==5 else x['flbmk'], axis=1)\n",
    "# data['flbmk'] = data[['etymd','flbmk']].apply(lambda x: 'N' if x['etymd']==6 else x['flbmk'], axis=1)"
   ]
  },
  {
   "cell_type": "markdown",
   "metadata": {},
   "source": [
    "# Memory reduction"
   ]
  },
  {
   "cell_type": "code",
   "execution_count": 6,
   "metadata": {
    "ExecuteTime": {
     "end_time": "2019-11-11T08:58:41.293392Z",
     "start_time": "2019-11-11T08:58:41.215601Z"
    }
   },
   "outputs": [],
   "source": [
    "for col in data.columns:\n",
    "    if data[col].dtype=='float64': data[col] = data[col].astype('float32')\n",
    "    if data[col].dtype=='int64': data[col] = data[col].astype('int32')"
   ]
  },
  {
   "cell_type": "markdown",
   "metadata": {},
   "source": [
    "# Basic Feature engineering"
   ]
  },
  {
   "cell_type": "code",
   "execution_count": 7,
   "metadata": {
    "ExecuteTime": {
     "end_time": "2019-11-11T08:58:48.636977Z",
     "start_time": "2019-11-11T08:58:44.553997Z"
    }
   },
   "outputs": [],
   "source": [
    "data['loctm_int'] = data['loctm'].astype(int)\n",
    "data['loctm_str'] = data['loctm_int'].astype(str)\n",
    "data['loctm_str'] = data['loctm_str'].apply(lambda x : '0'+x if (len(x)==5) else ('00'+x if (len(x)==4) else ('000'+x if (len(x)==3) else ('0000'+x if (len(x)==2) else ('00000'+x if (len(x)==1) else x)))))\n",
    "data['hours'] = data['loctm_str'].str[0:2]\n",
    "data['minutes'] = data['loctm_str'].str[2:4]\n",
    "data['seconds'] = data['loctm_str'].str[4:6]\n",
    "data['hours'] = data['hours'].astype(int)\n",
    "data['minutes'] = data['minutes'].astype(int)\n",
    "data['seconds'] = data['seconds'].astype(int)\n",
    "data['total_seconds'] = data['locdt']*86400+data['hours']*3600+data['minutes']*60+data['seconds']\n",
    "data['time'] = (data['hours']*3600+data['minutes']*60+data['seconds'])#/86400\n",
    "data['timeBin'] = pd.cut(data['time'], 24)\n",
    "data['timeBin'] = data['timeBin'].astype('category').cat.codes\n",
    "data['decimal'] = data['conam'] - data['conam'].astype(int)\n",
    "data['taiwan_ornot'] = data['stocn'].apply(lambda x : 1 if x==102 else 0)"
   ]
  },
  {
   "cell_type": "markdown",
   "metadata": {},
   "source": [
    "# Fillna for Catboost"
   ]
  },
  {
   "cell_type": "code",
   "execution_count": null,
   "metadata": {
    "ExecuteTime": {
     "end_time": "2019-11-11T08:51:05.044758Z",
     "start_time": "2019-11-11T08:51:04.546072Z"
    }
   },
   "outputs": [],
   "source": [
    "data[['flbmk', 'flg_3dsmk']] = data[['flbmk','flg_3dsmk']].fillna(-999)"
   ]
  },
  {
   "cell_type": "markdown",
   "metadata": {},
   "source": [
    "# Seperate"
   ]
  },
  {
   "cell_type": "code",
   "execution_count": 8,
   "metadata": {
    "ExecuteTime": {
     "end_time": "2019-11-11T08:58:57.854631Z",
     "start_time": "2019-11-11T08:58:57.530459Z"
    }
   },
   "outputs": [],
   "source": [
    "train = data[pd.notnull(data['fraud_ind'])]\n",
    "test = data[~pd.notnull(data['fraud_ind'])]"
   ]
  },
  {
   "cell_type": "markdown",
   "metadata": {},
   "source": [
    "# Feature Selection"
   ]
  },
  {
   "cell_type": "code",
   "execution_count": 21,
   "metadata": {
    "ExecuteTime": {
     "end_time": "2019-11-11T09:55:38.010661Z",
     "start_time": "2019-11-11T09:54:06.974205Z"
    },
    "collapsed": true
   },
   "outputs": [
    {
     "data": {
      "text/html": [
       "\n",
       "    <style>\n",
       "    table.eli5-weights tr:hover {\n",
       "        filter: brightness(85%);\n",
       "    }\n",
       "</style>\n",
       "\n",
       "\n",
       "\n",
       "    \n",
       "\n",
       "    \n",
       "\n",
       "    \n",
       "\n",
       "    \n",
       "\n",
       "    \n",
       "\n",
       "    \n",
       "\n",
       "\n",
       "    \n",
       "\n",
       "    \n",
       "\n",
       "    \n",
       "\n",
       "    \n",
       "\n",
       "    \n",
       "\n",
       "    \n",
       "\n",
       "\n",
       "    \n",
       "\n",
       "    \n",
       "\n",
       "    \n",
       "\n",
       "    \n",
       "\n",
       "    \n",
       "        <table class=\"eli5-weights eli5-feature-importances\" style=\"border-collapse: collapse; border: none; margin-top: 0em; table-layout: auto;\">\n",
       "    <thead>\n",
       "    <tr style=\"border: none;\">\n",
       "        <th style=\"padding: 0 1em 0 0.5em; text-align: right; border: none;\">Weight</th>\n",
       "        <th style=\"padding: 0 0.5em 0 0.5em; text-align: left; border: none;\">Feature</th>\n",
       "    </tr>\n",
       "    </thead>\n",
       "    <tbody>\n",
       "    \n",
       "        <tr style=\"background-color: hsl(120, 100.00%, 80.00%); border: none;\">\n",
       "            <td style=\"padding: 0 1em 0 0.5em; text-align: right; border: none;\">\n",
       "                0.0159\n",
       "                \n",
       "                    &plusmn; 0.0003\n",
       "                \n",
       "            </td>\n",
       "            <td style=\"padding: 0 0.5em 0 0.5em; text-align: left; border: none;\">\n",
       "                total_seconds\n",
       "            </td>\n",
       "        </tr>\n",
       "    \n",
       "        <tr style=\"background-color: hsl(120, 100.00%, 80.75%); border: none;\">\n",
       "            <td style=\"padding: 0 1em 0 0.5em; text-align: right; border: none;\">\n",
       "                0.0150\n",
       "                \n",
       "                    &plusmn; 0.0003\n",
       "                \n",
       "            </td>\n",
       "            <td style=\"padding: 0 0.5em 0 0.5em; text-align: left; border: none;\">\n",
       "                locdt\n",
       "            </td>\n",
       "        </tr>\n",
       "    \n",
       "        <tr style=\"background-color: hsl(120, 100.00%, 82.91%); border: none;\">\n",
       "            <td style=\"padding: 0 1em 0 0.5em; text-align: right; border: none;\">\n",
       "                0.0127\n",
       "                \n",
       "                    &plusmn; 0.0004\n",
       "                \n",
       "            </td>\n",
       "            <td style=\"padding: 0 0.5em 0 0.5em; text-align: left; border: none;\">\n",
       "                ecfg\n",
       "            </td>\n",
       "        </tr>\n",
       "    \n",
       "        <tr style=\"background-color: hsl(120, 100.00%, 92.40%); border: none;\">\n",
       "            <td style=\"padding: 0 1em 0 0.5em; text-align: right; border: none;\">\n",
       "                0.0040\n",
       "                \n",
       "                    &plusmn; 0.0001\n",
       "                \n",
       "            </td>\n",
       "            <td style=\"padding: 0 0.5em 0 0.5em; text-align: left; border: none;\">\n",
       "                taiwan_ornot\n",
       "            </td>\n",
       "        </tr>\n",
       "    \n",
       "        <tr style=\"background-color: hsl(120, 100.00%, 92.74%); border: none;\">\n",
       "            <td style=\"padding: 0 1em 0 0.5em; text-align: right; border: none;\">\n",
       "                0.0037\n",
       "                \n",
       "                    &plusmn; 0.0001\n",
       "                \n",
       "            </td>\n",
       "            <td style=\"padding: 0 0.5em 0 0.5em; text-align: left; border: none;\">\n",
       "                conam\n",
       "            </td>\n",
       "        </tr>\n",
       "    \n",
       "        <tr style=\"background-color: hsl(120, 100.00%, 93.25%); border: none;\">\n",
       "            <td style=\"padding: 0 1em 0 0.5em; text-align: right; border: none;\">\n",
       "                0.0034\n",
       "                \n",
       "                    &plusmn; 0.0002\n",
       "                \n",
       "            </td>\n",
       "            <td style=\"padding: 0 0.5em 0 0.5em; text-align: left; border: none;\">\n",
       "                csmcu\n",
       "            </td>\n",
       "        </tr>\n",
       "    \n",
       "        <tr style=\"background-color: hsl(120, 100.00%, 93.32%); border: none;\">\n",
       "            <td style=\"padding: 0 1em 0 0.5em; text-align: right; border: none;\">\n",
       "                0.0033\n",
       "                \n",
       "                    &plusmn; 0.0001\n",
       "                \n",
       "            </td>\n",
       "            <td style=\"padding: 0 0.5em 0 0.5em; text-align: left; border: none;\">\n",
       "                scity\n",
       "            </td>\n",
       "        </tr>\n",
       "    \n",
       "        <tr style=\"background-color: hsl(120, 100.00%, 93.33%); border: none;\">\n",
       "            <td style=\"padding: 0 1em 0 0.5em; text-align: right; border: none;\">\n",
       "                0.0033\n",
       "                \n",
       "                    &plusmn; 0.0002\n",
       "                \n",
       "            </td>\n",
       "            <td style=\"padding: 0 0.5em 0 0.5em; text-align: left; border: none;\">\n",
       "                acqic\n",
       "            </td>\n",
       "        </tr>\n",
       "    \n",
       "        <tr style=\"background-color: hsl(120, 100.00%, 93.94%); border: none;\">\n",
       "            <td style=\"padding: 0 1em 0 0.5em; text-align: right; border: none;\">\n",
       "                0.0029\n",
       "                \n",
       "                    &plusmn; 0.0002\n",
       "                \n",
       "            </td>\n",
       "            <td style=\"padding: 0 0.5em 0 0.5em; text-align: left; border: none;\">\n",
       "                mcc\n",
       "            </td>\n",
       "        </tr>\n",
       "    \n",
       "        <tr style=\"background-color: hsl(120, 100.00%, 95.37%); border: none;\">\n",
       "            <td style=\"padding: 0 1em 0 0.5em; text-align: right; border: none;\">\n",
       "                0.0020\n",
       "                \n",
       "                    &plusmn; 0.0001\n",
       "                \n",
       "            </td>\n",
       "            <td style=\"padding: 0 0.5em 0 0.5em; text-align: left; border: none;\">\n",
       "                mchno\n",
       "            </td>\n",
       "        </tr>\n",
       "    \n",
       "        <tr style=\"background-color: hsl(120, 100.00%, 95.69%); border: none;\">\n",
       "            <td style=\"padding: 0 1em 0 0.5em; text-align: right; border: none;\">\n",
       "                0.0018\n",
       "                \n",
       "                    &plusmn; 0.0000\n",
       "                \n",
       "            </td>\n",
       "            <td style=\"padding: 0 0.5em 0 0.5em; text-align: left; border: none;\">\n",
       "                stscd\n",
       "            </td>\n",
       "        </tr>\n",
       "    \n",
       "        <tr style=\"background-color: hsl(120, 100.00%, 96.39%); border: none;\">\n",
       "            <td style=\"padding: 0 1em 0 0.5em; text-align: right; border: none;\">\n",
       "                0.0014\n",
       "                \n",
       "                    &plusmn; 0.0001\n",
       "                \n",
       "            </td>\n",
       "            <td style=\"padding: 0 0.5em 0 0.5em; text-align: left; border: none;\">\n",
       "                etymd\n",
       "            </td>\n",
       "        </tr>\n",
       "    \n",
       "        <tr style=\"background-color: hsl(120, 100.00%, 97.55%); border: none;\">\n",
       "            <td style=\"padding: 0 1em 0 0.5em; text-align: right; border: none;\">\n",
       "                0.0008\n",
       "                \n",
       "                    &plusmn; 0.0001\n",
       "                \n",
       "            </td>\n",
       "            <td style=\"padding: 0 0.5em 0 0.5em; text-align: left; border: none;\">\n",
       "                loctm\n",
       "            </td>\n",
       "        </tr>\n",
       "    \n",
       "        <tr style=\"background-color: hsl(120, 100.00%, 97.56%); border: none;\">\n",
       "            <td style=\"padding: 0 1em 0 0.5em; text-align: right; border: none;\">\n",
       "                0.0008\n",
       "                \n",
       "                    &plusmn; 0.0000\n",
       "                \n",
       "            </td>\n",
       "            <td style=\"padding: 0 0.5em 0 0.5em; text-align: left; border: none;\">\n",
       "                stocn\n",
       "            </td>\n",
       "        </tr>\n",
       "    \n",
       "        <tr style=\"background-color: hsl(120, 100.00%, 98.77%); border: none;\">\n",
       "            <td style=\"padding: 0 1em 0 0.5em; text-align: right; border: none;\">\n",
       "                0.0003\n",
       "                \n",
       "                    &plusmn; 0.0001\n",
       "                \n",
       "            </td>\n",
       "            <td style=\"padding: 0 0.5em 0 0.5em; text-align: left; border: none;\">\n",
       "                iterm\n",
       "            </td>\n",
       "        </tr>\n",
       "    \n",
       "        <tr style=\"background-color: hsl(120, 100.00%, 99.04%); border: none;\">\n",
       "            <td style=\"padding: 0 1em 0 0.5em; text-align: right; border: none;\">\n",
       "                0.0002\n",
       "                \n",
       "                    &plusmn; 0.0000\n",
       "                \n",
       "            </td>\n",
       "            <td style=\"padding: 0 0.5em 0 0.5em; text-align: left; border: none;\">\n",
       "                decimal\n",
       "            </td>\n",
       "        </tr>\n",
       "    \n",
       "        <tr style=\"background-color: hsl(120, 100.00%, 99.43%); border: none;\">\n",
       "            <td style=\"padding: 0 1em 0 0.5em; text-align: right; border: none;\">\n",
       "                0.0001\n",
       "                \n",
       "                    &plusmn; 0.0000\n",
       "                \n",
       "            </td>\n",
       "            <td style=\"padding: 0 0.5em 0 0.5em; text-align: left; border: none;\">\n",
       "                flg_3dsmk\n",
       "            </td>\n",
       "        </tr>\n",
       "    \n",
       "        <tr style=\"background-color: hsl(120, 100.00%, 99.56%); border: none;\">\n",
       "            <td style=\"padding: 0 1em 0 0.5em; text-align: right; border: none;\">\n",
       "                0.0001\n",
       "                \n",
       "                    &plusmn; 0.0000\n",
       "                \n",
       "            </td>\n",
       "            <td style=\"padding: 0 0.5em 0 0.5em; text-align: left; border: none;\">\n",
       "                hours\n",
       "            </td>\n",
       "        </tr>\n",
       "    \n",
       "        <tr style=\"background-color: hsl(120, 100.00%, 99.57%); border: none;\">\n",
       "            <td style=\"padding: 0 1em 0 0.5em; text-align: right; border: none;\">\n",
       "                0.0001\n",
       "                \n",
       "                    &plusmn; 0.0000\n",
       "                \n",
       "            </td>\n",
       "            <td style=\"padding: 0 0.5em 0 0.5em; text-align: left; border: none;\">\n",
       "                minutes\n",
       "            </td>\n",
       "        </tr>\n",
       "    \n",
       "        <tr style=\"background-color: hsl(120, 100.00%, 99.61%); border: none;\">\n",
       "            <td style=\"padding: 0 1em 0 0.5em; text-align: right; border: none;\">\n",
       "                0.0001\n",
       "                \n",
       "                    &plusmn; 0.0000\n",
       "                \n",
       "            </td>\n",
       "            <td style=\"padding: 0 0.5em 0 0.5em; text-align: left; border: none;\">\n",
       "                ovrlt\n",
       "            </td>\n",
       "        </tr>\n",
       "    \n",
       "    \n",
       "        \n",
       "            <tr style=\"background-color: hsl(120, 100.00%, 99.61%); border: none;\">\n",
       "                <td colspan=\"2\" style=\"padding: 0 0.5em 0 0.5em; text-align: center; border: none; white-space: nowrap;\">\n",
       "                    <i>&hellip; 8 more &hellip;</i>\n",
       "                </td>\n",
       "            </tr>\n",
       "        \n",
       "    \n",
       "    </tbody>\n",
       "</table>\n",
       "    \n",
       "\n",
       "    \n",
       "\n",
       "\n",
       "    \n",
       "\n",
       "    \n",
       "\n",
       "    \n",
       "\n",
       "    \n",
       "\n",
       "    \n",
       "\n",
       "    \n",
       "\n",
       "\n",
       "\n"
      ],
      "text/plain": [
       "<IPython.core.display.HTML object>"
      ]
     },
     "execution_count": 21,
     "metadata": {},
     "output_type": "execute_result"
    }
   ],
   "source": [
    "# RFECV\n",
    "# from sklearn.feature_selection import RFECV\n",
    "# clf = lgbm.LGBMClassifier() \n",
    "# rfecv = RFECV(estimator=clf, step=1, cv=5,scoring='f1')   #5-fold cross-validation\n",
    "# rfecv = rfecv.fit(X_train, y_train)\n",
    "\n",
    "# print('Optimal number of features :', rfecv.n_features_)\n",
    "# print('Best features :', x_train.columns[rfecv.support_])"
   ]
  },
  {
   "cell_type": "code",
   "execution_count": 19,
   "metadata": {
    "ExecuteTime": {
     "end_time": "2019-11-11T09:51:36.789064Z",
     "start_time": "2019-11-11T09:51:36.141290Z"
    }
   },
   "outputs": [],
   "source": [
    "y_train = train[['fraud_ind']]\n",
    "x_train = train[['acqic', 'conam', 'contp', 'csmcu', 'ecfg', 'etymd',\n",
    "       'flbmk', 'flg_3dsmk', 'hcefg', 'insfg', 'iterm', 'locdt',\n",
    "       'loctm', 'mcc', 'mchno', 'ovrlt', 'scity', 'stocn', 'stscd', \n",
    "       'hours', 'minutes', 'seconds',\n",
    "       'total_seconds', 'time', 'timeBin', 'timeBin4', 'decimal',\n",
    "       'taiwan_ornot']]\n",
    "testx = test[['acqic', 'conam', 'contp', 'csmcu', 'ecfg', 'etymd',\n",
    "       'flbmk', 'flg_3dsmk', 'hcefg', 'insfg', 'iterm', 'locdt',\n",
    "       'loctm', 'mcc', 'mchno', 'ovrlt', 'scity', 'stocn', 'stscd', \n",
    "       'hours', 'minutes', 'seconds',\n",
    "       'total_seconds', 'time', 'timeBin', 'timeBin4', 'decimal',\n",
    "       'taiwan_ornot']]\n",
    "\n",
    "#train_test_split\n",
    "X_train,X_valid,y_train,y_valid = model_selection.train_test_split(x_train, y_train, random_state=12, test_size=0.2) \n",
    "\n",
    "## No split\n",
    "# X_train = x_train\n",
    "# y_train = y_train\n",
    "\n",
    "##day1-day60 as train set,day60-day90 as validation set\n",
    "# X_valid = x_train[x_train.locdt>60]\n",
    "# X_train = x_train[x_train.locdt<61]\n",
    "\n",
    "##Time series split\n",
    "# y_train = train[['fraud_ind','locdt','time']]\n",
    "# x_train = train[['locdt','time']]\n",
    "# testx = test[['locdt','time',]]\n",
    "# X = x_train.sort_values('locdt')\n",
    "# X = X.sort_values('time').drop(['locdt','time'], axis=1)\n",
    "# y = y_train.sort_values('locdt')\n",
    "# y = y.sort_values('time').drop(['locdt','time'], axis=1)\n",
    "# #X_test = test.sort_values('TransactionDT').drop(['TransactionDT', 'TransactionID'], axis=1)\n",
    "# X_test = testx.drop(['locdt','time'], axis=1)"
   ]
  },
  {
   "cell_type": "markdown",
   "metadata": {},
   "source": [
    "# Oversample for imbalance data"
   ]
  },
  {
   "cell_type": "code",
   "execution_count": null,
   "metadata": {
    "ExecuteTime": {
     "end_time": "2019-11-03T09:25:40.476901Z",
     "start_time": "2019-11-03T09:25:15.129Z"
    }
   },
   "outputs": [],
   "source": [
    "# from sklearn.utils import resample\n",
    "\n",
    "# # # concatenate our training data back together\n",
    "# X = pd.concat([X_train, y_train], axis=1)\n",
    "\n",
    "# # separate minority and majority classes\n",
    "# not_fraud = X[X.fraud_ind==0]\n",
    "# fraud = X[X.fraud_ind==1]\n",
    "\n",
    "# # upsample minority\n",
    "# fraud_upsampled = resample(fraud,\n",
    "#                           replace=True, # sample with replacement\n",
    "#                           n_samples=len(not_fraud), # match number in majority class\n",
    "#                           random_state=27) # reproducible results\n",
    "\n",
    "# # combine majority and upsampled minority\n",
    "# upsampled = pd.concat([not_fraud, fraud_upsampled])\n",
    "# y_train = upsampled.fraud_ind\n",
    "# X_train = upsampled.drop('fraud_ind', axis=1)\n",
    "\n",
    "# # check new class counts\n",
    "# upsampled.fraud_ind.value_counts()"
   ]
  },
  {
   "cell_type": "markdown",
   "metadata": {},
   "source": [
    "# specifying catfeatures"
   ]
  },
  {
   "cell_type": "code",
   "execution_count": null,
   "metadata": {
    "ExecuteTime": {
     "end_time": "2019-11-03T09:25:40.477898Z",
     "start_time": "2019-11-03T09:25:15.521Z"
    }
   },
   "outputs": [],
   "source": [
    "x_cat_feature = train[['acqic', 'bacno', 'cano', 'contp', 'csmcu', 'ecfg', 'etymd','flbmk', \n",
    "                       'flg_3dsmk', 'hcefg', 'insfg', 'iterm','mcc', 'mchno', 'ovrlt', 'stscd',\n",
    "                       'stocn_csmcu' , 'cano_sequence' ,'ecfg_scity']]\n",
    "\n",
    "cat_features_names = x_cat_feature.columns # specifying names of categorical features\n",
    "cat_features = [x_train.columns.get_loc(col) for col in cat_features_names]\n",
    "print(cat_features)"
   ]
  },
  {
   "cell_type": "markdown",
   "metadata": {},
   "source": [
    "# Modeling"
   ]
  },
  {
   "cell_type": "markdown",
   "metadata": {},
   "source": [
    "## Gridsearch"
   ]
  },
  {
   "cell_type": "code",
   "execution_count": null,
   "metadata": {
    "ExecuteTime": {
     "end_time": "2019-11-03T09:24:40.826954Z",
     "start_time": "2019-11-03T09:24:28.001Z"
    }
   },
   "outputs": [],
   "source": [
    "parameters = {\n",
    "#parameters for Catboost\n",
    "#     'max_depth': [],\n",
    "#     'scale_pos_weight': [],\n",
    "#     'bagging_temperature': [],\n",
    "#      'l2_leaf_reg': []\n",
    "}\n",
    "\n",
    "#parameters for lgbm\n",
    "#     'max_depth': [36,37,38],\n",
    "#     'num_leaves': [250,500],\n",
    "#     'min_child_samples': [18,19,20,21,22],\n",
    "#      'min_child_weight': [0.001,0.002]\n",
    "#     'feature_fraction': [0.6, 0.8, 1],\n",
    "#     'bagging_fraction': [0.8,0.9,1],\n",
    "#      'bagging_freq': [2,3,4],\n",
    "# 'reg_alpha': [0, 0.001, 0.01, 0.03, 0.08, 0.3, 0.5],    \n",
    "# 'reg_lambda': [0, 0.001, 0.01, 0.03, 0.08, 0.3, 0.5],\n",
    "# 'cat_smooth': [0,10,20]\n",
    "\n",
    "CB = CatBoostClassifier(random_seed=1)\n",
    "\n",
    "# fit_params={\"early_stopping_rounds\":50, \n",
    "#             \"eval_metric\" : \"auc\", \n",
    "#             \"eval_set\" : [[X_valid , y_valid]]}\n",
    "\n",
    "gsearch = GridSearchCV(CB, param_grid=parameters, scoring='f1', cv=3)\n",
    "gsearch.fit(X_train,y_train)#**fit_params\n",
    "print('最佳參數:{0}'.format(gsearch.best_params_))\n",
    "print('最佳分數:{0}'.format(gsearch.best_score_))\n",
    "print(gsearch.cv_results_['mean_test_score'])\n",
    "print(gsearch.cv_results_['params'])"
   ]
  },
  {
   "cell_type": "markdown",
   "metadata": {},
   "source": [
    "## RandomForest, Lightgbm and Catboost modeling"
   ]
  },
  {
   "cell_type": "code",
   "execution_count": null,
   "metadata": {},
   "outputs": [],
   "source": [
    "clf_rf = RandomForestClassifier( criterion = ,\n",
    "                                 n_estimators=,\n",
    "                                 min_samples_split=,\n",
    "                                 min_samples_leaf=,\n",
    "                                 n_jobs=-1) \n",
    "\n",
    "clf_lgbm = lgbm.LGBMClassifier( objective = 'binary', is_unbalance = True, metric = 'binary_logloss,auc', \n",
    "                                max_depth = , num_leaves = , learning_rate = , feature_fraction = , \n",
    "                                min_child_samples=, min_child_weight=, \n",
    "                                bagging_fraction = , bagging_freq = , reg_alpha = , reg_lambda = , cat_smooth = , num_iterations =   )\n",
    "clf_cb =CatBoostClassifier(random_seed=1)"
   ]
  },
  {
   "cell_type": "code",
   "execution_count": null,
   "metadata": {
    "ExecuteTime": {
     "end_time": "2019-11-03T09:24:40.828947Z",
     "start_time": "2019-11-03T09:24:35.550Z"
    }
   },
   "outputs": [],
   "source": [
    "##F1 Score\n",
    "# def f1_eval(y_pred, dtrain):\n",
    "#     y_true = dtrain.get_label()\n",
    "#     err = 1-f1_score(y_true, np.round(y_pred))\n",
    "#     return 'f1_err', err"
   ]
  },
  {
   "cell_type": "code",
   "execution_count": null,
   "metadata": {
    "ExecuteTime": {
     "end_time": "2019-11-03T09:24:40.829945Z",
     "start_time": "2019-11-03T09:24:37.916Z"
    }
   },
   "outputs": [],
   "source": [
    "eval_set  = [(X_valid , y_valid)]\n",
    "\n",
    "clf_rf.fit(X_train, y_train)\n",
    "\n",
    "clf_lgbm.fit(X_train, y_train ,eval_set=eval_set,early_stopping_rounds=50,eval_metric='f1_eval')\n",
    "clf_lgbm.fit(X_train, y_train)\n",
    "\n",
    "clf_cb.fit(X_train, y_train,cat_features = cat_features)\n",
    "clf_cb.fit(X_train, y_train,cat_features = cat_features,plot=True,eval_set=(X_valid , y_valid),use_best_model=True,plot=True)"
   ]
  },
  {
   "cell_type": "code",
   "execution_count": null,
   "metadata": {
    "ExecuteTime": {
     "end_time": "2019-10-20T09:52:42.149358Z",
     "start_time": "2019-10-20T09:28:22.094Z"
    }
   },
   "outputs": [],
   "source": [
    "y_pred = clf_lgbm.predict(X_valid)\n",
    "f1_scores[clf_name] = f1_score(y_pred, y_valid)\n",
    "print(metrics.classification_report(y_pred, y_valid))\n",
    "print(f1_scores)"
   ]
  },
  {
   "cell_type": "code",
   "execution_count": null,
   "metadata": {},
   "outputs": [],
   "source": [
    "# tss = TimeSeriesSplit(n_splits=5)\n",
    "# # kfold = KFold(n_splits=5)\n",
    "# scores = cross_val_score(clf, X, y, cv=tss, scoring = 'f1',n_jobs =-1) \n",
    "# print(scores)\n",
    "# print (\"mean validation F1:\",\n",
    "#        \"%0.2f (+/- %0.2f)\" % (scores.mean(), scores.std() * 2))"
   ]
  },
  {
   "cell_type": "markdown",
   "metadata": {},
   "source": [
    "# Feature Importance"
   ]
  },
  {
   "cell_type": "code",
   "execution_count": null,
   "metadata": {
    "ExecuteTime": {
     "end_time": "2019-10-20T12:09:36.222214Z",
     "start_time": "2019-10-20T12:09:36.185313Z"
    }
   },
   "outputs": [],
   "source": [
    "pd.concat((pd.DataFrame(x_train.columns, columns = ['variable']), \n",
    "           pd.DataFrame(clf.feature_importances_, columns = ['importance'])), \n",
    "          axis = 1).sort_values(by='importance', ascending = False)[:]"
   ]
  },
  {
   "cell_type": "markdown",
   "metadata": {},
   "source": [
    "# Submit"
   ]
  },
  {
   "cell_type": "code",
   "execution_count": null,
   "metadata": {
    "ExecuteTime": {
     "end_time": "2019-10-20T12:10:33.522341Z",
     "start_time": "2019-10-20T12:09:50.435345Z"
    }
   },
   "outputs": [],
   "source": [
    "test['fraud_ind'] =  clf.predict(testx)\n",
    "submit = submit[['txkey']]\n",
    "submit=pd.merge(submit,test,on='txkey') \n",
    "submit['fraud_ind'] = submit['fraud_ind'].astype(int)\n",
    "submit = submit[['txkey','fraud_ind']]\n",
    "submit.to_csv('submision.csv', index= False)"
   ]
  }
 ],
 "metadata": {
  "kernelspec": {
   "display_name": "Python 3",
   "language": "python",
   "name": "python3"
  },
  "language_info": {
   "codemirror_mode": {
    "name": "ipython",
    "version": 3
   },
   "file_extension": ".py",
   "mimetype": "text/x-python",
   "name": "python",
   "nbconvert_exporter": "python",
   "pygments_lexer": "ipython3",
   "version": "3.7.3"
  },
  "toc": {
   "base_numbering": 1,
   "nav_menu": {},
   "number_sections": true,
   "sideBar": true,
   "skip_h1_title": false,
   "title_cell": "Table of Contents",
   "title_sidebar": "Contents",
   "toc_cell": false,
   "toc_position": {
    "height": "calc(100% - 180px)",
    "left": "10px",
    "top": "150px",
    "width": "165px"
   },
   "toc_section_display": true,
   "toc_window_display": true
  }
 },
 "nbformat": 4,
 "nbformat_minor": 2
}
